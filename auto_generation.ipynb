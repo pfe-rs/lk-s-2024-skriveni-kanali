{
 "cells": [
  {
   "cell_type": "code",
   "execution_count": 14,
   "metadata": {},
   "outputs": [],
   "source": [
    "import numpy as np\n",
    "import random\n",
    "import matplotlib.pyplot as plt"
   ]
  },
  {
   "cell_type": "code",
   "execution_count": 18,
   "metadata": {},
   "outputs": [],
   "source": [
    "# globalne promenljive\n",
    "\n",
    "fs = 44100\n",
    "f0 = 10_000\n",
    "df = 1_000\n",
    "dt = .1\n",
    "small_segment = 100"
   ]
  },
  {
   "cell_type": "code",
   "execution_count": 20,
   "metadata": {},
   "outputs": [],
   "source": [
    "# Funkcije koje koristimo\n",
    "\n",
    "def GenerateRandom(length = 1000):\n",
    "    bin_string = \"\"\n",
    "    \n",
    "    for _ in range(length):\n",
    "        bin_string += '1' if bool(random.getrandbits(1)) else '0'\n",
    "    \n",
    "    return bin_string\n",
    "\n",
    "def GenerateSignal(bin_code : str):\n",
    "\n",
    "    # učitavanje globalnih promenljiva\n",
    "    global fs, f0, df, dt\n",
    "\n",
    "    # pravljenje frekvencija za pakete\n",
    "    f = [f0 - df // 2, f0 + df // 2]\n",
    "\n",
    "    # priprema za pravljenje mfsk niza\n",
    "    samples_per_symbol = int(int(fs) * dt)\n",
    "    \n",
    "    # pravljenje mfsk niza sa frekvencijama\n",
    "    mfsk = []\n",
    "    for bit in bin_code:\n",
    "        mfsk += [f[int(bit)] for _ in range(samples_per_symbol)]\n",
    "    mfsk = np.array(mfsk)\n",
    "    \n",
    "    # pravljenje cpmfsk signala\n",
    "    delta_phi = mfsk * np.pi / (fs / 2.0)\n",
    "    phi = np.cumsum(delta_phi)\n",
    "    cpmfsk = np.sin(phi)\n",
    "\n",
    "    return cpmfsk\n",
    "\n",
    "def AddingNoise(sig, snr):\n",
    "\n",
    "    # pravljenje šuma sa određenim SNRom\n",
    "    sig_watts = np.mean(sig ** 2)\n",
    "    sig_db = 10 * np.log10(sig_watts)\n",
    "    noise_db = sig_db - snr\n",
    "    noise_watts = 10 ** (noise_db / 10)\n",
    "    noise = np.random.normal(0, np.sqrt(noise_watts), len(sig))\n",
    "    \n",
    "    # spajanje signala i šuma\n",
    "    signal_with_noise = sig + noise\n",
    "\n",
    "    return signal_with_noise\n",
    "\n",
    "def DemodulateSignal(signal, f0, f1, small_segment, fs):\n",
    "    ...\n",
    "\n",
    "def BER(input_bin, output_bin, snr):\n",
    "    ..."
   ]
  },
  {
   "cell_type": "code",
   "execution_count": null,
   "metadata": {},
   "outputs": [],
   "source": [
    "BERs = []\n",
    "for noise in np.arange(1, -10, -.1):\n",
    "    for _ in range(1000):\n",
    "        input_bin = GenerateRandom(8 * 1000) # generisanje poruke\n",
    "        signal = AddingNoise(GenerateSignal(input_bin), noise) # modulacija signala\n",
    "        \n",
    "        output_bin = DemodulateSignal(signal, f0 - df // 2, f0 + df // 2, small_segment, fs) # demodulacija\n",
    "        ber_snr = BER(input_bin, output_bin, noise) # računanje BER/SNR\n",
    "        BERs.append(ber_snr)\n",
    "\n",
    "# plotovanje\n",
    "fig, ax = plt.subplots(1, 1, figsize = (8, 2))\n",
    "ax.plot(BERs)"
   ]
  }
 ],
 "metadata": {
  "kernelspec": {
   "display_name": ".venv",
   "language": "python",
   "name": "python3"
  },
  "language_info": {
   "codemirror_mode": {
    "name": "ipython",
    "version": 3
   },
   "file_extension": ".py",
   "mimetype": "text/x-python",
   "name": "python",
   "nbconvert_exporter": "python",
   "pygments_lexer": "ipython3",
   "version": "3.11.4"
  }
 },
 "nbformat": 4,
 "nbformat_minor": 2
}
