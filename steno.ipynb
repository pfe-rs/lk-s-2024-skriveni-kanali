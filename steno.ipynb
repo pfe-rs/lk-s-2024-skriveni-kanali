{
 "cells": [
  {
   "cell_type": "code",
   "execution_count": 32,
   "metadata": {},
   "outputs": [],
   "source": [
    "def GetBinaryPhoto(input_file : str) -> list[str]:\n",
    "\n",
    "    # Čitanje slika kao binarnog koda\n",
    "    with open(input_file, 'rb') as photo:\n",
    "        read = photo.read()\n",
    "    read = list(read)\n",
    "\n",
    "    # Podela bajtova na bitove\n",
    "    bits_data = []\n",
    "    for byte in read:\n",
    "        bits = format(byte, '08b')\n",
    "        bits_data.append(bits[:2])\n",
    "        bits_data.append(bits[2:4])\n",
    "        bits_data.append(bits[4:6])\n",
    "        bits_data.append(bits[6:])\n",
    "\n",
    "    return bits_data\n",
    "\n",
    "photo_bits = GetBinaryPhoto('fotka.jpg')"
   ]
  },
  {
   "cell_type": "markdown",
   "metadata": {},
   "source": [
    "## Coding audio"
   ]
  },
  {
   "cell_type": "code",
   "execution_count": 65,
   "metadata": {},
   "outputs": [],
   "source": [
    "import wave\n",
    "\n",
    "def ModifyBits(byte : bytes, bits : str) -> bytes:\n",
    "    bits = int(bits, 2)\n",
    "    return (byte & 0b11111100) | bits\n",
    "\n",
    "def ModifyWav(input_filename : str, output_filename : str, bits : list) -> None:\n",
    "\n",
    "    # Čitanje audio fajla\n",
    "    with wave.open(input_filename, 'rb') as infile:\n",
    "        params = infile.getparams()\n",
    "        frames = infile.readframes(params.nframes)\n",
    "    \n",
    "    # Provera da li slika može da stane u audio fajl\n",
    "    if len(bits) > len(frames) - 24: raise MemoryError(\"Slika je previše velika da bi stala u audio fajl\")\n",
    "    \n",
    "    # Sredjivanje tipa podataka\n",
    "    frames = bytearray(frames)\n",
    "\n",
    "    # Sakrivanje dužine slike\n",
    "    num_bytes = len(bits) // 4\n",
    "    photo_length = format(num_bytes, '024b')\n",
    "    length_bits = []\n",
    "    for i in range(0, len(photo_length), 2):\n",
    "        length_bits.append(photo_length[i : i + 2])\n",
    "    writen_bits = 0\n",
    "    for i in range(1, 24, 2):\n",
    "        frames[i] = ModifyBits(frames[i], length_bits[writen_bits])\n",
    "        writen_bits += 1\n",
    "    \n",
    "    # Sakrivanje slike\n",
    "    writen_bits = 0\n",
    "    for i in range(25, len(frames), 2):\n",
    "        if writen_bits < len(bits):\n",
    "            new_bits = ModifyBits(frames[i], bits[writen_bits])\n",
    "            writen_bits += 1\n",
    "            frames[i] = new_bits\n",
    "    \n",
    "    # Pravljenje novog fajla\n",
    "    with wave.open(output_filename, 'wb') as outfile:\n",
    "        outfile.setparams(params)\n",
    "        outfile.writeframes(frames)\n",
    "\n",
    "input_filename = 'nikotin-96khz.wav'\n",
    "output_filename = 'output.wav'\n",
    "ModifyWav(input_filename, output_filename, photo_bits)\n"
   ]
  },
  {
   "cell_type": "markdown",
   "metadata": {},
   "source": [
    "## Decoding audio"
   ]
  },
  {
   "cell_type": "code",
   "execution_count": 67,
   "metadata": {},
   "outputs": [],
   "source": [
    "import wave\n",
    "\n",
    "def GetBits(byte):\n",
    "    ans = f'{byte & 0b00000011 : 03b}'[1:]\n",
    "    return ans\n",
    "\n",
    "def DemodulateSignal(input_filename, output_filename):\n",
    "    with wave.open(input_filename, 'rb') as infile:\n",
    "        params = infile.getparams()\n",
    "        frames = infile.readframes(params.nframes)\n",
    "\n",
    "    frames = bytearray(frames)\n",
    "\n",
    "    photo_lenght = ''\n",
    "    for i in range(1, 24, 2):\n",
    "        photo_lenght += GetBits(frames[i])\n",
    "    num_bytes = int(photo_lenght, 2)\n",
    "    num_bits = num_bytes * 4\n",
    "\n",
    "    s = ''\n",
    "    for i in range(num_bits):\n",
    "        s += GetBits(frames[i * 2 + 25])\n",
    "    \n",
    "    data = []\n",
    "    for i in range(0, len(s), 8):\n",
    "        data.append(bytes(s[i : i + 8], 'utf-8'))\n",
    "\n",
    "    with open(output_filename, 'wb') as slika:\n",
    "        for thing in data:\n",
    "            slika.write(int(thing, 2).to_bytes())\n",
    "\n",
    "    \n",
    "DemodulateSignal('output.wav', 'slika.jpg')"
   ]
  },
  {
   "cell_type": "code",
   "execution_count": 44,
   "metadata": {},
   "outputs": [
    {
     "name": "stdout",
     "output_type": "stream",
     "text": [
      "000000000000000000000010\n"
     ]
    }
   ],
   "source": [
    "s = 0b10\n",
    "print(format(s, '024b'))"
   ]
  }
 ],
 "metadata": {
  "kernelspec": {
   "display_name": ".venv",
   "language": "python",
   "name": "python3"
  },
  "language_info": {
   "codemirror_mode": {
    "name": "ipython",
    "version": 3
   },
   "file_extension": ".py",
   "mimetype": "text/x-python",
   "name": "python",
   "nbconvert_exporter": "python",
   "pygments_lexer": "ipython3",
   "version": "3.11.4"
  }
 },
 "nbformat": 4,
 "nbformat_minor": 2
}
