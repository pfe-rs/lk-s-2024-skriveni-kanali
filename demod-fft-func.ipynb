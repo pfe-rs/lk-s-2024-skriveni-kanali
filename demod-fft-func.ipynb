{
 "cells": [
  {
   "cell_type": "markdown",
   "metadata": {},
   "source": [
    "# Demodulacija FSK kroz FFT -- v1, trivial, no sync yet"
   ]
  },
  {
   "cell_type": "markdown",
   "metadata": {},
   "source": [
    "### biblioteke"
   ]
  },
  {
   "cell_type": "code",
   "execution_count": null,
   "metadata": {},
   "outputs": [],
   "source": [
    "import numpy as np\n",
    "import fastgoertzel as G\n",
    "from scipy.io import wavfile\n",
    "from ipyfilechooser import FileChooser\n",
    "import matplotlib.pyplot as plt\n",
    "import os\n",
    "from pathlib import Path\n",
    "from os.path import exists\n",
    "# import librosa\n",
    "import scipy.fft as fft\n",
    "import scipy\n",
    "from scipy.signal import remez,freqz,firwin\n",
    "import decimal\n",
    "from scipy.signal import find_peaks\n",
    "# from scipy.signal import findfre2\n",
    "import binascii\n",
    "from scipy import signal\n",
    "%matplotlib widget"
   ]
  },
  {
   "cell_type": "markdown",
   "metadata": {},
   "source": [
    "### bitappender, bits to bytes"
   ]
  },
  {
   "cell_type": "code",
   "execution_count": null,
   "metadata": {},
   "outputs": [],
   "source": [
    "class BitAppender:\n",
    "    def __init__(self):\n",
    "        self.buffer = bytearray()\n",
    "        self.current_byte = 0\n",
    "        self.bit_count = 0\n",
    "\n",
    "    def append_bit(self, bit):\n",
    "        if bit not in (0, 1):\n",
    "            raise ValueError(\"Bit must be 0 or 1\")\n",
    "\n",
    "        # Add the bit to the current byte\n",
    "        self.current_byte = (self.current_byte << 1) | bit\n",
    "        self.bit_count += 1\n",
    "\n",
    "        # If we have accumulated 8 bits, store the byte and reset\n",
    "        if self.bit_count == 8:\n",
    "            self.buffer.append(self.current_byte)\n",
    "            self.current_byte = 0\n",
    "            self.bit_count = 0\n",
    "\n",
    "    def get_bytes(self):\n",
    "        # If there are leftover bits, pad with zeros and add the final byte\n",
    "        if self.bit_count > 0:\n",
    "            self.current_byte <<= (8 - self.bit_count)\n",
    "            self.buffer.append(self.current_byte)\n",
    "        return bytes(self.buffer)\n",
    "\n",
    "# Example usage:\n",
    "# bit_appender = BitAppender()\n",
    "# bits = [1, 0, 1, 1, 0, 0, 1, 0,  # 0b10110010 (178 in decimal)\n",
    "#         1, 1, 1, 1, 0, 0, 1, 1]  # 0b11110011 (243 in decimal)\n",
    "\n",
    "# for bit in bits:\n",
    "#     bit_appender.append_bit(bit)\n",
    "\n",
    "# result = bit_appender.get_bytes()\n",
    "# print(result)  # Output: b'\\xb2\\xf3'"
   ]
  },
  {
   "cell_type": "markdown",
   "metadata": {},
   "source": [
    "### selektor i file picker"
   ]
  },
  {
   "cell_type": "code",
   "execution_count": null,
   "metadata": {},
   "outputs": [],
   "source": [
    "def biraj_folder() -> FileChooser:\n",
    "    # biranje foldera\n",
    "    fc = FileChooser()\n",
    "    fc.show_only_dirs = True\n",
    "\n",
    "    # brza pretraga da nadje default folder, sto da ne\n",
    "    for dirname,_,_ in os.walk(fc.default_path):\n",
    "        if Path(dirname).name == \"wav\":\n",
    "            fc.default_path = dirname\n",
    "            fc._select_default = True  ## da ne moramo da selektujemo svaki put\n",
    "            fc.reset()\n",
    "            break\n",
    "    # ovo valjda odradi posao\n",
    "    display(fc)\n",
    "    return fc\n",
    "\n",
    "def ucitaj_fajl(fc:FileChooser):\n",
    "    global samplerate, sig\n",
    "    # samplerate = sr\n",
    "    # sig = sig\n",
    "    # zapravo ucitavanje fajla ## mozda bi valjalo da resimo da se radi kroz neki update automatski kad selektujes\n",
    "    selected = os.fsencode(fc.selected)\n",
    "    # filename = os.fsdecode(file)\n",
    "\n",
    "    if os.path.isfile(selected):\n",
    "        try:\n",
    "            # sig, samplerate = librosa.load(fc.selected + filename) \n",
    "            samplerate, sig = wavfile.read(fc.selected) \n",
    "            return(samplerate, sig)\n",
    "            \n",
    "\n",
    "        except:\n",
    "            print(\"greska sa citanjem fajla:\" + fc.selected)\n",
    "    \n",
    "\n",
    "def biraj_fajl():\n",
    "    # biranje fajla\n",
    "    fc = FileChooser()\n",
    "    fc.register_callback(ucitaj_fajl)   \n",
    "    display(fc)\n",
    "    # return fc\n",
    "biraj_fajl()"
   ]
  },
  {
   "cell_type": "markdown",
   "metadata": {},
   "source": [
    "### spektogram za proveru"
   ]
  },
  {
   "cell_type": "code",
   "execution_count": null,
   "metadata": {},
   "outputs": [],
   "source": [
    "plt.clf()\n",
    "plt.specgram(sig,Fs=samplerate )\n",
    "plt.show()"
   ]
  },
  {
   "cell_type": "markdown",
   "metadata": {},
   "source": [
    "### trivial fft demod, nosync, fixed experimental tresh"
   ]
  },
  {
   "cell_type": "code",
   "execution_count": null,
   "metadata": {},
   "outputs": [],
   "source": [
    "dt = 0.1\n",
    "f0 = 9500\n",
    "f1 = 10500\n",
    "peak_tresh = 10000000\n",
    "\n",
    "bit_appender = BitAppender()\n",
    "small_segment = int(samplerate * dt  * 0.01)\n",
    "small_segment = 50 # mali delic tako da ne uhvatimo prelaze frekvencija i olaksamo potrebe sinhronizacije\n",
    "small_segment = 100\n",
    "\n",
    "N = len(sig)\n",
    "\n",
    "T = 1.0 / samplerate\n",
    "# x = np.linspace(0.0, N*T, N)\n",
    "\n",
    "yf = scipy.fftpack.fft(sig)\n",
    "# xf = np.linspace(0.0, 1.0/(2.0*T), N//2)\n",
    "\n",
    "bl = []\n",
    "\n",
    "for i in np.arange(0,len(sig)/samplerate,dt):\n",
    "\n",
    "    y1 = sig[int(i*samplerate + small_segment) : int((i+dt)*samplerate) - small_segment]/1\n",
    "    y1fft = scipy.fft.rfft(y1)\n",
    "\n",
    "    n = int(dt * samplerate)- 2 * small_segment\n",
    "\n",
    "    freqs = fft.rfftfreq(n,1./samplerate)\n",
    "    peaks,props = find_peaks(y1fft,height = peak_tresh)\n",
    "\n",
    "    ### modifikovati, trenutno preskace veliki peak kod dc-a ovako, napraviti bolje resenje jer ovo nece raditi za nize fs i brzine odbiranja\n",
    "    if f0-300 < freqs[y1fft[15:].argmax()] < f0 + 300: bit_appender.append_bit(0);bl.append(0)\n",
    "    if f1-300 < freqs[y1fft[15:].argmax()] < f1 +300: bit_appender.append_bit(1);bl.append(1)\n",
    "    \n",
    "\n",
    "result = bit_appender.get_bytes()\n",
    "print(bl)\n",
    "print(result)  # Output: b'\\xb2\\xf3'"
   ]
  },
  {
   "cell_type": "code",
   "execution_count": null,
   "metadata": {},
   "outputs": [],
   "source": []
  }
 ],
 "metadata": {
  "kernelspec": {
   "display_name": "Python 3",
   "language": "python",
   "name": "python3"
  },
  "language_info": {
   "codemirror_mode": {
    "name": "ipython",
    "version": 3
   },
   "file_extension": ".py",
   "mimetype": "text/x-python",
   "name": "python",
   "nbconvert_exporter": "python",
   "pygments_lexer": "ipython3",
   "version": "3.9.2"
  }
 },
 "nbformat": 4,
 "nbformat_minor": 2
}
